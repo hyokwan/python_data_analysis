{
  "nbformat": 4,
  "nbformat_minor": 0,
  "metadata": {
    "colab": {
      "provenance": []
    },
    "kernelspec": {
      "name": "python3",
      "display_name": "Python 3"
    },
    "language_info": {
      "name": "python"
    }
  },
  "cells": [
    {
      "cell_type": "markdown",
      "source": [
        "### 1. 데이터베이스 접속"
      ],
      "metadata": {
        "id": "GRrico6efF7T"
      }
    },
    {
      "cell_type": "code",
      "source": [
        "import psycopg2\n",
        "import pandas as pd\n",
        "from sqlalchemy import create_engine\n",
        "\n",
        "# 엔진 생성\n",
        "enginePg = create_engine('postgresql://id:pw@192.168.110.111:5432/postgres')"
      ],
      "metadata": {
        "id": "6kiLZqCyVnga"
      },
      "execution_count": 20,
      "outputs": []
    },
    {
      "cell_type": "markdown",
      "source": [
        "### 2. 데이터 불러오기"
      ],
      "metadata": {
        "id": "KpQFjYtqVneG"
      }
    },
    {
      "cell_type": "code",
      "source": [
        "csData = pd.read_sql_query(sql= \"select * from csdata_kopo\", con =enginePg)\n",
        "csData"
      ],
      "metadata": {
        "id": "UOOYkk8hVnbf"
      },
      "execution_count": null,
      "outputs": []
    },
    {
      "cell_type": "markdown",
      "source": [
        "### 3. DB 저장하기"
      ],
      "metadata": {
        "id": "nco6XCmQfPCa"
      }
    },
    {
      "cell_type": "code",
      "source": [
        "indata.to_sql(name=\"csdataout\",\n",
        "              con = enginePg,\n",
        "              if_exists=\"replace\",\n",
        "              index=False)"
      ],
      "metadata": {
        "id": "EG0pOktuVnZD"
      },
      "execution_count": null,
      "outputs": []
    }
  ]
}