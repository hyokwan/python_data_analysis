{
  "nbformat": 4,
  "nbformat_minor": 0,
  "metadata": {
    "colab": {
      "provenance": []
    },
    "kernelspec": {
      "name": "python3",
      "display_name": "Python 3"
    },
    "language_info": {
      "name": "python"
    }
  },
  "cells": [
    {
      "cell_type": "markdown",
      "source": [
        "### 구글 드라이브 연동 및 colab 환경 구축"
      ],
      "metadata": {
        "id": "NHnf0s5FC9MH"
      }
    },
    {
      "cell_type": "code",
      "execution_count": 33,
      "metadata": {
        "colab": {
          "base_uri": "https://localhost:8080/"
        },
        "id": "hPU5IfubCnu5",
        "outputId": "73bba03a-fc0c-4b6b-baee-90a8a8bc494e"
      },
      "outputs": [
        {
          "output_type": "stream",
          "name": "stdout",
          "text": [
            "Drive already mounted at /content/gdrive; to attempt to forcibly remount, call drive.mount(\"/content/gdrive\", force_remount=True).\n"
          ]
        }
      ],
      "source": [
        "from google.colab import drive\n",
        "drive.mount(\"/content/gdrive\")"
      ]
    },
    {
      "cell_type": "code",
      "source": [
        "%cd /content/gdrive/MyDrive/Colab Notebooks/stdcode2024/Session01_파이썬기초"
      ],
      "metadata": {
        "colab": {
          "base_uri": "https://localhost:8080/"
        },
        "id": "UJ-PXpAwCtCO",
        "outputId": "ad637631-247e-4302-bc77-992807948348"
      },
      "execution_count": 34,
      "outputs": [
        {
          "output_type": "stream",
          "name": "stdout",
          "text": [
            "/content/gdrive/MyDrive/Colab Notebooks/stdcode2024/Session01_파이썬기초\n"
          ]
        }
      ]
    },
    {
      "cell_type": "markdown",
      "source": [
        "문제1: dataset 폴더 내 다음 파일을 불러온 후 아래 조건에 맞는 파일을 상위 폴더 의 dataset_out 폴더에\n",
        "저장 하시오. (단, 저장파일은 기존 이름 뒤에 “_연월일시분” 붙여야 함."
      ],
      "metadata": {
        "id": "a5EivAbkDD43"
      }
    },
    {
      "cell_type": "code",
      "source": [
        "import os\n",
        "import pandas as pd\n",
        "\n",
        "inFolder = \"../dataset/\"\n",
        "outFolder = \"../dataset_out/\"\n",
        "\n",
        "fileNames = os.listdir( inFolder )\n",
        "fileNamesLen = len(fileNames)\n",
        "keyWord = \"kopo_product\"\n",
        "keyWordLen = len(keyWord)\n",
        "for i in range(0, fileNamesLen):\n",
        "    eachFile = fileNames[i]\n",
        "    print(eachFile)\n",
        "    if eachFile[:keyWordLen] ==  keyWord:\n",
        "        # 데이터 불러오기\n",
        "        indata = pd.read_csv(inFolder + eachFile)\n",
        "\n",
        "        # 데이터 저장하기\n",
        "        indata.to_csv(outFolder + eachFile )\n",
        "    else:\n",
        "        pass"
      ],
      "metadata": {
        "id": "6NiZV-BwU6e8"
      },
      "execution_count": 36,
      "outputs": []
    }
  ]
}