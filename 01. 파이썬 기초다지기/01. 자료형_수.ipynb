{
 "cells": [
  {
   "cell_type": "markdown",
   "id": "231a5aa1-bb8d-40f2-a586-68966030efbc",
   "metadata": {},
   "source": [
    "## 변수의 이름은 가독성이 높게 변수를 명명한다"
   ]
  },
  {
   "cell_type": "code",
   "execution_count": 9,
   "id": "d8bcecee-3e3b-427a-ad10-c443284b3d64",
   "metadata": {},
   "outputs": [
    {
     "data": {
      "text/plain": [
       "800.0"
      ]
     },
     "execution_count": 9,
     "metadata": {},
     "output_type": "execute_result"
    }
   ],
   "source": [
    "# 가격 할인비율 정의\n",
    "a = 1000\n",
    "b = 0.2\n",
    "# 최종가격 계산\n",
    "c = a - (a * b)\n",
    "c"
   ]
  },
  {
   "cell_type": "code",
   "execution_count": 11,
   "id": "350240a3-c0e3-4237-8e92-072dcef07311",
   "metadata": {},
   "outputs": [
    {
     "data": {
      "text/plain": [
       "800.0"
      ]
     },
     "execution_count": 11,
     "metadata": {},
     "output_type": "execute_result"
    }
   ],
   "source": [
    "# 가격 할인비율 정의\n",
    "price = 1000\n",
    "promotion = 0.2\n",
    "# 최종가격 계산\n",
    "marketPrice = price - (price * promotion)\n",
    "marketPrice"
   ]
  },
  {
   "cell_type": "markdown",
   "id": "4cacb801-47ec-4fb4-b7ed-41724ed50d06",
   "metadata": {},
   "source": [
    "# 1. 자료형"
   ]
  },
  {
   "cell_type": "markdown",
   "id": "33ce0201-c6fc-4c12-b55c-8200c16112a7",
   "metadata": {},
   "source": [
    "### 1-1. 수"
   ]
  },
  {
   "cell_type": "code",
   "execution_count": 6,
   "id": "1267d31b-fbd7-4175-9a17-8e094541d6d5",
   "metadata": {},
   "outputs": [],
   "source": [
    "price = 2000\n",
    "promotion = 0.2"
   ]
  },
  {
   "cell_type": "code",
   "execution_count": 7,
   "id": "928a2ff2-13c6-499d-809d-9301267d9ddd",
   "metadata": {},
   "outputs": [
    {
     "data": {
      "text/plain": [
       "2000.2"
      ]
     },
     "execution_count": 7,
     "metadata": {},
     "output_type": "execute_result"
    }
   ],
   "source": [
    "plusAns = price + promotion\n",
    "plusAns"
   ]
  },
  {
   "cell_type": "code",
   "execution_count": 8,
   "id": "0ae01a54-1f67-4af8-bade-5f2356fada4a",
   "metadata": {},
   "outputs": [
    {
     "data": {
      "text/plain": [
       "1999.8"
      ]
     },
     "execution_count": 8,
     "metadata": {},
     "output_type": "execute_result"
    }
   ],
   "source": [
    "minusAns = price - promotion\n",
    "minusAns"
   ]
  },
  {
   "cell_type": "code",
   "execution_count": 9,
   "id": "f4087ba9-2d4c-4ad4-b38e-771e0529939c",
   "metadata": {},
   "outputs": [
    {
     "data": {
      "text/plain": [
       "400.0"
      ]
     },
     "execution_count": 9,
     "metadata": {},
     "output_type": "execute_result"
    }
   ],
   "source": [
    "mulAns = price * promotion\n",
    "mulAns"
   ]
  },
  {
   "cell_type": "code",
   "execution_count": 10,
   "id": "c133ea37-cbd7-4aeb-9412-492767cdd52d",
   "metadata": {},
   "outputs": [
    {
     "data": {
      "text/plain": [
       "10000.0"
      ]
     },
     "execution_count": 10,
     "metadata": {},
     "output_type": "execute_result"
    }
   ],
   "source": [
    "divAns = price / promotion\n",
    "divAns"
   ]
  },
  {
   "cell_type": "markdown",
   "id": "127e5655-26b3-46cd-b56e-253e8f112afc",
   "metadata": {},
   "source": [
    "### ★★★ 나머지 연산 ★★★"
   ]
  },
  {
   "cell_type": "code",
   "execution_count": 30,
   "id": "e1396c27-a8f3-44c2-8c13-4a6c85705146",
   "metadata": {},
   "outputs": [],
   "source": [
    "weekStd = 4"
   ]
  },
  {
   "cell_type": "code",
   "execution_count": 31,
   "id": "9868d1a6-d7a5-4a55-b488-0fa593a41448",
   "metadata": {},
   "outputs": [],
   "source": [
    "actualWeek = 20"
   ]
  },
  {
   "cell_type": "code",
   "execution_count": 32,
   "id": "1d3d8ee5-a08b-42fd-924c-bdc879b1feb7",
   "metadata": {},
   "outputs": [
    {
     "data": {
      "text/plain": [
       "0"
      ]
     },
     "execution_count": 32,
     "metadata": {},
     "output_type": "execute_result"
    }
   ],
   "source": [
    "actualWeek % weekStd"
   ]
  },
  {
   "cell_type": "markdown",
   "id": "c873b5d2-7df5-4091-a880-820775578829",
   "metadata": {},
   "source": [
    "### 국가 코드만 추출하세요"
   ]
  },
  {
   "cell_type": "code",
   "execution_count": 1,
   "id": "10e0436b-8120-4524-9b16-5f52c148fa7f",
   "metadata": {},
   "outputs": [],
   "source": [
    "nationList = [\"한국\",\"A01\",\"미국\",\"A02\"]"
   ]
  },
  {
   "cell_type": "code",
   "execution_count": 2,
   "id": "ea787214-19dd-4e53-a720-2af67b5fb595",
   "metadata": {},
   "outputs": [
    {
     "data": {
      "text/plain": [
       "0"
      ]
     },
     "execution_count": 2,
     "metadata": {},
     "output_type": "execute_result"
    }
   ],
   "source": [
    "nationListLen = len(nationList)\n",
    "targetIndex = 9\n",
    "pattern  = 3\n",
    "targetIndex % pattern"
   ]
  },
  {
   "cell_type": "code",
   "execution_count": 3,
   "id": "add5568b-01f8-488d-93ae-c39bae850aad",
   "metadata": {},
   "outputs": [
    {
     "name": "stdout",
     "output_type": "stream",
     "text": [
      "A01\n",
      "A02\n"
     ]
    }
   ],
   "source": [
    "for i in range(0, nationListLen):\n",
    "    if i % 2 != 0:\n",
    "        print( nationList[i] )"
   ]
  },
  {
   "cell_type": "markdown",
   "id": "3f05dd1c-a9e4-4e24-b013-106b116a5d04",
   "metadata": {},
   "source": [
    "### 현재 시간 및 날짜 더한 내용 산출 하기"
   ]
  },
  {
   "cell_type": "code",
   "execution_count": 4,
   "id": "3799a169-9cbe-4166-843a-72154e573513",
   "metadata": {},
   "outputs": [
    {
     "data": {
      "text/plain": [
       "59"
      ]
     },
     "execution_count": 4,
     "metadata": {},
     "output_type": "execute_result"
    }
   ],
   "source": [
    "currHour = 12\n",
    "currMin = 47\n",
    "plusAnswer = currHour + currMin\n",
    "plusAnswer"
   ]
  },
  {
   "cell_type": "code",
   "execution_count": 5,
   "id": "42848dc4-fd2b-4fee-a050-d1ac1aff6079",
   "metadata": {},
   "outputs": [
    {
     "data": {
      "text/plain": [
       "73"
      ]
     },
     "execution_count": 5,
     "metadata": {},
     "output_type": "execute_result"
    }
   ],
   "source": [
    "import datetime\n",
    "\n",
    "currentTime = datetime.datetime.now()\n",
    "currHour = currentTime.hour\n",
    "currMinutes = currentTime.minute\n",
    "plusAnswer = currHour + currMinutes\n",
    "plusAnswer"
   ]
  }
 ],
 "metadata": {
  "kernelspec": {
   "display_name": "Python 3 (ipykernel)",
   "language": "python",
   "name": "python3"
  },
  "language_info": {
   "codemirror_mode": {
    "name": "ipython",
    "version": 3
   },
   "file_extension": ".py",
   "mimetype": "text/x-python",
   "name": "python",
   "nbconvert_exporter": "python",
   "pygments_lexer": "ipython3",
   "version": "3.10.11"
  }
 },
 "nbformat": 4,
 "nbformat_minor": 5
}
